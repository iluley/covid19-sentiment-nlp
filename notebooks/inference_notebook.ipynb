{
  "cells": [
    {
      "cell_type": "markdown",
      "id": "87d39bd7",
      "metadata": {
        "id": "87d39bd7"
      },
      "source": [
        "# Natural Languange Processing (NLP)- Advanced Topics in DL\n",
        "\n",
        "Group Z:</br>\n",
        "    - Iliya Morgunov - 206361412</br>\n",
        "    - Eadan Schechter - 209793553"
      ]
    },
    {
      "cell_type": "markdown",
      "id": "87df8219",
      "metadata": {
        "id": "87df8219"
      },
      "source": [
        "Inference on Fine-Tuned, Compressed, and Distilled Models.\n",
        "This notebook loads all previously saved `.pt` models (fine-tuned, quantized, pruned, and distilled) and evaluates them on the test dataset `df_test_final.csv`."
      ]
    },
    {
      "cell_type": "code",
      "execution_count": null,
      "id": "6b218833",
      "metadata": {
        "colab": {
          "base_uri": "https://localhost:8080/"
        },
        "id": "6b218833",
        "outputId": "a56a3834-be1f-4542-f25a-13d69f84f0e5"
      },
      "outputs": [],
      "source": [
        "import os\n",
        "import time\n",
        "import re\n",
        "import shutil\n",
        "import warnings\n",
        "warnings.filterwarnings(\"ignore\")\n",
        "\n",
        "import numpy as np\n",
        "import pandas as pd\n",
        "\n",
        "from sklearn.metrics import (\n",
        "    f1_score, accuracy_score, precision_score, recall_score\n",
        ")\n",
        "\n",
        "import torch\n",
        "from torch import nn\n",
        "from torch.utils.data import DataLoader, Dataset\n",
        "import torch.nn.functional as F\n",
        "from torch.quantization import quantize_dynamic\n",
        "\n",
        "from transformers import AutoTokenizer, AutoModelForSequenceClassification\n",
        "\n",
        "device = torch.device(\"cuda\" if torch.cuda.is_available() else \"cpu\")\n",
        "device"
      ]
    },
    {
      "cell_type": "markdown",
      "id": "754862ca",
      "metadata": {
        "id": "754862ca"
      },
      "source": [
        "Load Test Data"
      ]
    },
    {
      "cell_type": "code",
      "execution_count": null,
      "id": "0015c469",
      "metadata": {
        "colab": {
          "base_uri": "https://localhost:8080/",
          "height": 223
        },
        "id": "0015c469",
        "outputId": "8856f312-2de2-4bab-d7bb-9a134b503c57"
      },
      "outputs": [],
      "source": [
        "# Expect to be in the same directory as df_test_final.csv\n",
        "df_test = pd.read_csv(\"df_test_final.csv\")\n",
        "\n",
        "# Map Sentiment column to integer labels (same order as in the fine-tuning notebook)\n",
        "sentiment_classes = ['Negative', 'Neutral', 'Positive', 'Extremely Negative', 'Extremely Positive']\n",
        "label2id = {label: idx for idx, label in enumerate(sentiment_classes)}\n",
        "\n",
        "# Create the 'label' column used by the dataset class\n",
        "if 'label' not in df_test.columns:\n",
        "    df_test['label'] = df_test['Sentiment'].map(label2id).astype(int)\n",
        "\n",
        "print(\"Test shape:\", df_test.shape)\n",
        "df_test[['TweetWithDateLocation', 'Sentiment', 'label']].head()"
      ]
    },
    {
      "cell_type": "markdown",
      "id": "44f8fbbb",
      "metadata": {
        "id": "44f8fbbb"
      },
      "source": [
        "Dataset & Tokenization"
      ]
    },
    {
      "cell_type": "code",
      "execution_count": null,
      "id": "00363913",
      "metadata": {
        "id": "00363913"
      },
      "outputs": [],
      "source": [
        "class TweetDataset(Dataset):\n",
        "    \"\"\"\n",
        "    PyTorch Dataset for tweet sentiment analysis using a DataFrame.\n",
        "    Processes each row to create tokenized input for transformer models.\n",
        "    \"\"\"\n",
        "\n",
        "    def __init__(self, dataframe, tokenizer, text_col=\"TweetWithDateLocation\", label_col=\"label\", max_len=128):\n",
        "        self.texts = dataframe[text_col].astype(str).tolist()\n",
        "        self.labels = dataframe[label_col].tolist()\n",
        "        self.tokenizer = tokenizer\n",
        "        self.max_len = max_len\n",
        "\n",
        "    def __len__(self):\n",
        "        return len(self.texts)\n",
        "\n",
        "    def __getitem__(self, idx):\n",
        "        text = self.texts[idx]\n",
        "        label = self.labels[idx]\n",
        "\n",
        "        encoding = self.tokenizer.encode_plus(\n",
        "            text,\n",
        "            add_special_tokens=True,\n",
        "            max_length=self.max_len,\n",
        "            padding='max_length',\n",
        "            truncation=True,\n",
        "            return_attention_mask=True,\n",
        "            return_tensors='pt'\n",
        "        )\n",
        "\n",
        "        return {\n",
        "            'input_ids': encoding['input_ids'].squeeze(),\n",
        "            'attention_mask': encoding['attention_mask'].squeeze(),\n",
        "            'labels': torch.tensor(label, dtype=torch.long)\n",
        "        }"
      ]
    },
    {
      "cell_type": "markdown",
      "id": "04a074ab",
      "metadata": {
        "id": "04a074ab"
      },
      "source": [
        "Evaluation Function"
      ]
    },
    {
      "cell_type": "code",
      "execution_count": null,
      "id": "22509e9f",
      "metadata": {
        "id": "22509e9f"
      },
      "outputs": [],
      "source": [
        "def evaluate_model(model, dataloader, eval_device=None):\n",
        "    \"\"\"\n",
        "    Returns dict with: Accuracy, Macro F1, Precision, Recall\n",
        "    \"\"\"\n",
        "    if eval_device is None:\n",
        "        eval_device = next(model.parameters()).device\n",
        "\n",
        "    model.eval()\n",
        "    all_preds, all_probs, all_labels = [], [], []\n",
        "    with torch.no_grad():\n",
        "        for batch in dataloader:\n",
        "            input_ids = batch['input_ids'].to(eval_device)\n",
        "            attention_mask = batch['attention_mask'].to(eval_device)\n",
        "            labels = batch['labels'].to(eval_device)\n",
        "\n",
        "            outputs = model(input_ids=input_ids, attention_mask=attention_mask)\n",
        "            logits = outputs.logits\n",
        "            probs = F.softmax(logits, dim=-1)\n",
        "            preds = probs.argmax(dim=1)\n",
        "\n",
        "            all_probs.append(probs.cpu().numpy())\n",
        "            all_preds.append(preds.cpu().numpy())\n",
        "            all_labels.append(labels.cpu().numpy())\n",
        "\n",
        "    y_prob = np.concatenate(all_probs, axis=0)\n",
        "    y_pred = np.concatenate(all_preds, axis=0)\n",
        "    y_true = np.concatenate(all_labels, axis=0)\n",
        "\n",
        "    metrics = {\n",
        "        \"Accuracy\": accuracy_score(y_true, y_pred),\n",
        "        \"Macro F1\": f1_score(y_true, y_pred, average='macro'),\n",
        "        \"Precision\": precision_score(y_true, y_pred, average='macro', zero_division=0),\n",
        "        \"Recall\": recall_score(y_true, y_pred, average='macro', zero_division=0),\n",
        "    }\n",
        "\n",
        "    return metrics"
      ]
    },
    {
      "cell_type": "markdown",
      "id": "b952a1d3",
      "metadata": {
        "id": "b952a1d3"
      },
      "source": [
        "Load All Models"
      ]
    },
    {
      "cell_type": "code",
      "execution_count": null,
      "id": "2317d0c8",
      "metadata": {
        "id": "2317d0c8"
      },
      "outputs": [],
      "source": [
        "import os\n",
        "import re\n",
        "\n",
        "MODEL_DIR = \".\"  # same directory as notebook\n",
        "\n",
        "def infer_backbone_from_filename(fname: str) -> str:\n",
        "    \"\"\"\n",
        "    Map file names to the exact backbones used in training.\n",
        "    We intentionally avoid mapping to 'deberta-v3' to prevent tokenizer/type issues.\n",
        "    \"\"\"\n",
        "    f = fname.lower()\n",
        "\n",
        "    # BERTweet\n",
        "    if \"bertweet\" in f or \"vinai-bertweet-base\" in f:\n",
        "        return \"vinai/bertweet-base\"\n",
        "\n",
        "    # DeBERTa (base) – this is what the original notebook fine-tuned\n",
        "    if \"deberta-base\" in f or \"microsoft-deberta-base\" in f or \"deberta_base\" in f:\n",
        "        return \"microsoft/deberta-base\"\n",
        "\n",
        "    # Distilled students from KD section:\n",
        "    if \"bert-tiny\" in f or \"prajjwal1-bert-tiny\" in f:\n",
        "        return \"prajjwal1/bert-tiny\"\n",
        "    if \"deberta-v3-small\" in f or \"microsoft-deberta-v3-small\" in f:\n",
        "        return \"microsoft/deberta-v3-small\"\n",
        "\n",
        "    # Fallback to DeBERTa base if something DeBERTa-ish slipped through\n",
        "    if \"deberta\" in f:\n",
        "        return \"microsoft/deberta-base\"\n",
        "\n",
        "    # As very last resort, try BERTweet\n",
        "    return \"vinai/bertweet-base\"\n",
        "\n",
        "\n",
        "def is_quantized_file(fname: str) -> bool:\n",
        "    return \"_quantized\" in fname.lower()\n",
        "\n",
        "\n",
        "def sorted_pt_files_in_dir(d: str = \".\"):\n",
        "    files = [f for f in os.listdir(d) if f.endswith(\".pt\")]\n",
        "    files.sort()\n",
        "    return files"
      ]
    },
    {
      "cell_type": "markdown",
      "id": "d11a4c7b",
      "metadata": {
        "id": "d11a4c7b"
      },
      "source": [
        "Run Evaluation for Each Model"
      ]
    },
    {
      "cell_type": "code",
      "execution_count": null,
      "id": "86d0d1d6",
      "metadata": {
        "colab": {
          "base_uri": "https://localhost:8080/"
        },
        "id": "86d0d1d6",
        "outputId": "be9bea12-512f-460c-d882-95138e3fcd42"
      },
      "outputs": [],
      "source": [
        "import torch\n",
        "from torch import nn\n",
        "from torch.quantization import quantize_dynamic\n",
        "from transformers import AutoTokenizer, AutoConfig, AutoModelForSequenceClassification\n",
        "\n",
        "def load_finetuned_model(backbone: str, state_dict_path: str, num_labels: int = 5, quantized: bool = False):\n",
        "    \"\"\"\n",
        "    Build architecture from CONFIG (no hub weights), then load the saved .pt state_dict.\n",
        "    No HF-folder or safetensors fallback — .pt only.\n",
        "    \"\"\"\n",
        "    eval_device = torch.device(\"cpu\") if quantized else device\n",
        "\n",
        "    # Robust torch.load for state_dict\n",
        "    state = None\n",
        "    try:\n",
        "        state = torch.load(state_dict_path, map_location=eval_device)\n",
        "    except Exception as e:\n",
        "        # try PyTorch >=2.2 weights_only path if available\n",
        "        try:\n",
        "            state = torch.load(state_dict_path, map_location=eval_device, weights_only=True)\n",
        "        except Exception:\n",
        "            raise RuntimeError(f\"torch.load failed on '{state_dict_path}': {e}\")\n",
        "\n",
        "    if not isinstance(state, dict):\n",
        "        raise RuntimeError(f\"Loaded object from '{state_dict_path}' is not a state_dict (dict).\")\n",
        "\n",
        "    # Build empty architecture from config (prevents 'newly initialized' head warning)\n",
        "    cfg = AutoConfig.from_pretrained(backbone, num_labels=num_labels)\n",
        "    model = AutoModelForSequenceClassification.from_config(cfg)\n",
        "\n",
        "    # Optional: dynamic int8 quantization (CPU-only)\n",
        "    if quantized:\n",
        "        model = quantize_dynamic(model, {nn.Linear}, dtype=torch.qint8)\n",
        "        eval_device = torch.device(\"cpu\")\n",
        "\n",
        "    # Load weights (non-strict for minor HF version diffs)\n",
        "    missing, unexpected = model.load_state_dict(state, strict=False)\n",
        "    if missing or unexpected:\n",
        "        print(\"load_state_dict info -> missing:\", missing, \"| unexpected:\", unexpected)\n",
        "\n",
        "    model.to(eval_device).eval()\n",
        "    return model, eval_device\n",
        "\n",
        "\n",
        "# ===== Inference loop (same tokenizer style as training: use_fast=False) =====\n",
        "results = []\n",
        "\n",
        "all_model_files = sorted_pt_files_in_dir(MODEL_DIR)\n",
        "print(\"Discovered .pt files:\", all_model_files)\n",
        "\n",
        "for fname in all_model_files:\n",
        "    backbone = infer_backbone_from_filename(fname)\n",
        "    quantized = is_quantized_file(fname)\n",
        "    print(f\"\\n>>> Evaluating: {fname}\\n    Backbone: {backbone}\\n    Quantized: {quantized}\")\n",
        "\n",
        "    tokenizer = AutoTokenizer.from_pretrained(backbone, use_fast=False)\n",
        "\n",
        "    test_dataset = TweetDataset(\n",
        "        df_test, tokenizer,\n",
        "        text_col=\"TweetWithDateLocation\",\n",
        "        label_col=\"label\",\n",
        "        max_len=128\n",
        "    )\n",
        "    test_loader = DataLoader(test_dataset, batch_size=32, shuffle=False)\n",
        "\n",
        "    model, eval_device = load_finetuned_model(backbone, os.path.join(MODEL_DIR, fname), num_labels=5, quantized=quantized)\n",
        "\n",
        "    # NOTE: this matches your current evaluate_model signature you’re calling with (model, loader, device)\n",
        "    metrics = evaluate_model(model, test_loader, eval_device)\n",
        "    metrics[\"Model\"] = fname\n",
        "    results.append(metrics)"
      ]
    },
    {
      "cell_type": "markdown",
      "id": "cfeea6d8",
      "metadata": {
        "id": "cfeea6d8"
      },
      "source": [
        "Collect Results"
      ]
    },
    {
      "cell_type": "code",
      "execution_count": null,
      "id": "935e8b51",
      "metadata": {
        "colab": {
          "base_uri": "https://localhost:8080/"
        },
        "id": "935e8b51",
        "outputId": "ab2be09e-1e55-47dc-dc75-a4bde90af863"
      },
      "outputs": [],
      "source": [
        "df_results = pd.DataFrame(results)\n",
        "df_results = df_results[[\"Model\", \"Accuracy\", \"Macro F1\", \"Precision\", \"Recall\"]]\n",
        "\n",
        "print(\"\\n=== Final Results ===\")\n",
        "print(df_results)\n",
        "\n",
        "# Save\n",
        "df_results.to_csv(\"model_comparison_results.csv\", index=False)"
      ]
    }
  ],
  "metadata": {
    "accelerator": "GPU",
    "colab": {
      "gpuType": "A100",
      "machine_shape": "hm",
      "provenance": []
    },
    "kernelspec": {
      "display_name": "DL_ex_1",
      "language": "python",
      "name": "python3"
    },
    "language_info": {
      "codemirror_mode": {
        "name": "ipython",
        "version": 3
      },
      "file_extension": ".py",
      "mimetype": "text/x-python",
      "name": "python",
      "nbconvert_exporter": "python",
      "pygments_lexer": "ipython3",
      "version": "3.12.3"
    }
  },
  "nbformat": 4,
  "nbformat_minor": 5
}
