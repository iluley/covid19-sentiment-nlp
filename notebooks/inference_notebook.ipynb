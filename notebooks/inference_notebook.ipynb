{
  "cells": [
    {
      "cell_type": "markdown",
      "id": "87d39bd7",
      "metadata": {
        "id": "87d39bd7"
      },
      "source": [
        "# Natural Languange Processing (NLP)- Advanced Topics in DL\n",
        "\n",
        "Group Z:</br>\n",
        "    - Iliya Morgunov - 206361412</br>\n",
        "    - Eadan Schechter - 209793553"
      ]
    },
    {
      "cell_type": "markdown",
      "id": "87df8219",
      "metadata": {
        "id": "87df8219"
      },
      "source": [
        "Inference on Fine-Tuned, Compressed, and Distilled Models.\n",
        "This notebook loads all previously saved `.pt` models (fine-tuned, quantized, pruned, and distilled) and evaluates them on the test dataset `df_test_final.csv`."
      ]
    },
    {
      "cell_type": "code",
      "execution_count": 1,
      "id": "6b218833",
      "metadata": {
        "colab": {
          "base_uri": "https://localhost:8080/"
        },
        "id": "6b218833",
        "outputId": "a56a3834-be1f-4542-f25a-13d69f84f0e5"
      },
      "outputs": [
        {
          "output_type": "execute_result",
          "data": {
            "text/plain": [
              "device(type='cuda')"
            ]
          },
          "metadata": {},
          "execution_count": 1
        }
      ],
      "source": [
        "import os\n",
        "import time\n",
        "import re\n",
        "import shutil\n",
        "import warnings\n",
        "warnings.filterwarnings(\"ignore\")\n",
        "\n",
        "import numpy as np\n",
        "import pandas as pd\n",
        "\n",
        "from sklearn.metrics import (\n",
        "    f1_score, accuracy_score, precision_score, recall_score\n",
        ")\n",
        "\n",
        "import torch\n",
        "from torch import nn\n",
        "from torch.utils.data import DataLoader, Dataset\n",
        "import torch.nn.functional as F\n",
        "from torch.quantization import quantize_dynamic\n",
        "\n",
        "from transformers import AutoTokenizer, AutoModelForSequenceClassification\n",
        "\n",
        "device = torch.device(\"cuda\" if torch.cuda.is_available() else \"cpu\")\n",
        "device"
      ]
    },
    {
      "cell_type": "markdown",
      "id": "754862ca",
      "metadata": {
        "id": "754862ca"
      },
      "source": [
        "Load Test Data"
      ]
    },
    {
      "cell_type": "code",
      "execution_count": 2,
      "id": "0015c469",
      "metadata": {
        "colab": {
          "base_uri": "https://localhost:8080/",
          "height": 223
        },
        "id": "0015c469",
        "outputId": "8856f312-2de2-4bab-d7bb-9a134b503c57"
      },
      "outputs": [
        {
          "output_type": "stream",
          "name": "stdout",
          "text": [
            "Test shape: (3798, 11)\n"
          ]
        },
        {
          "output_type": "execute_result",
          "data": {
            "text/plain": [
              "                               TweetWithDateLocation           Sentiment  \\\n",
              "0  [tweet] TRENDING: New Yorkers encounter empty ...  Extremely Negative   \n",
              "1  [tweet] When I couldn't find hand sanitizer at...            Positive   \n",
              "2  [tweet] Find out how you can protect yourself ...  Extremely Positive   \n",
              "3  [tweet] buying hits City as anxious shoppers s...            Negative   \n",
              "4  [tweet] One week everyone buying baby milk pow...             Neutral   \n",
              "\n",
              "   label  \n",
              "0      3  \n",
              "1      2  \n",
              "2      4  \n",
              "3      0  \n",
              "4      1  "
            ],
            "text/html": [
              "\n",
              "  <div id=\"df-35d4d7a0-edda-44d7-a2b2-fafef8e0de36\" class=\"colab-df-container\">\n",
              "    <div>\n",
              "<style scoped>\n",
              "    .dataframe tbody tr th:only-of-type {\n",
              "        vertical-align: middle;\n",
              "    }\n",
              "\n",
              "    .dataframe tbody tr th {\n",
              "        vertical-align: top;\n",
              "    }\n",
              "\n",
              "    .dataframe thead th {\n",
              "        text-align: right;\n",
              "    }\n",
              "</style>\n",
              "<table border=\"1\" class=\"dataframe\">\n",
              "  <thead>\n",
              "    <tr style=\"text-align: right;\">\n",
              "      <th></th>\n",
              "      <th>TweetWithDateLocation</th>\n",
              "      <th>Sentiment</th>\n",
              "      <th>label</th>\n",
              "    </tr>\n",
              "  </thead>\n",
              "  <tbody>\n",
              "    <tr>\n",
              "      <th>0</th>\n",
              "      <td>[tweet] TRENDING: New Yorkers encounter empty ...</td>\n",
              "      <td>Extremely Negative</td>\n",
              "      <td>3</td>\n",
              "    </tr>\n",
              "    <tr>\n",
              "      <th>1</th>\n",
              "      <td>[tweet] When I couldn't find hand sanitizer at...</td>\n",
              "      <td>Positive</td>\n",
              "      <td>2</td>\n",
              "    </tr>\n",
              "    <tr>\n",
              "      <th>2</th>\n",
              "      <td>[tweet] Find out how you can protect yourself ...</td>\n",
              "      <td>Extremely Positive</td>\n",
              "      <td>4</td>\n",
              "    </tr>\n",
              "    <tr>\n",
              "      <th>3</th>\n",
              "      <td>[tweet] buying hits City as anxious shoppers s...</td>\n",
              "      <td>Negative</td>\n",
              "      <td>0</td>\n",
              "    </tr>\n",
              "    <tr>\n",
              "      <th>4</th>\n",
              "      <td>[tweet] One week everyone buying baby milk pow...</td>\n",
              "      <td>Neutral</td>\n",
              "      <td>1</td>\n",
              "    </tr>\n",
              "  </tbody>\n",
              "</table>\n",
              "</div>\n",
              "    <div class=\"colab-df-buttons\">\n",
              "\n",
              "  <div class=\"colab-df-container\">\n",
              "    <button class=\"colab-df-convert\" onclick=\"convertToInteractive('df-35d4d7a0-edda-44d7-a2b2-fafef8e0de36')\"\n",
              "            title=\"Convert this dataframe to an interactive table.\"\n",
              "            style=\"display:none;\">\n",
              "\n",
              "  <svg xmlns=\"http://www.w3.org/2000/svg\" height=\"24px\" viewBox=\"0 -960 960 960\">\n",
              "    <path d=\"M120-120v-720h720v720H120Zm60-500h600v-160H180v160Zm220 220h160v-160H400v160Zm0 220h160v-160H400v160ZM180-400h160v-160H180v160Zm440 0h160v-160H620v160ZM180-180h160v-160H180v160Zm440 0h160v-160H620v160Z\"/>\n",
              "  </svg>\n",
              "    </button>\n",
              "\n",
              "  <style>\n",
              "    .colab-df-container {\n",
              "      display:flex;\n",
              "      gap: 12px;\n",
              "    }\n",
              "\n",
              "    .colab-df-convert {\n",
              "      background-color: #E8F0FE;\n",
              "      border: none;\n",
              "      border-radius: 50%;\n",
              "      cursor: pointer;\n",
              "      display: none;\n",
              "      fill: #1967D2;\n",
              "      height: 32px;\n",
              "      padding: 0 0 0 0;\n",
              "      width: 32px;\n",
              "    }\n",
              "\n",
              "    .colab-df-convert:hover {\n",
              "      background-color: #E2EBFA;\n",
              "      box-shadow: 0px 1px 2px rgba(60, 64, 67, 0.3), 0px 1px 3px 1px rgba(60, 64, 67, 0.15);\n",
              "      fill: #174EA6;\n",
              "    }\n",
              "\n",
              "    .colab-df-buttons div {\n",
              "      margin-bottom: 4px;\n",
              "    }\n",
              "\n",
              "    [theme=dark] .colab-df-convert {\n",
              "      background-color: #3B4455;\n",
              "      fill: #D2E3FC;\n",
              "    }\n",
              "\n",
              "    [theme=dark] .colab-df-convert:hover {\n",
              "      background-color: #434B5C;\n",
              "      box-shadow: 0px 1px 3px 1px rgba(0, 0, 0, 0.15);\n",
              "      filter: drop-shadow(0px 1px 2px rgba(0, 0, 0, 0.3));\n",
              "      fill: #FFFFFF;\n",
              "    }\n",
              "  </style>\n",
              "\n",
              "    <script>\n",
              "      const buttonEl =\n",
              "        document.querySelector('#df-35d4d7a0-edda-44d7-a2b2-fafef8e0de36 button.colab-df-convert');\n",
              "      buttonEl.style.display =\n",
              "        google.colab.kernel.accessAllowed ? 'block' : 'none';\n",
              "\n",
              "      async function convertToInteractive(key) {\n",
              "        const element = document.querySelector('#df-35d4d7a0-edda-44d7-a2b2-fafef8e0de36');\n",
              "        const dataTable =\n",
              "          await google.colab.kernel.invokeFunction('convertToInteractive',\n",
              "                                                    [key], {});\n",
              "        if (!dataTable) return;\n",
              "\n",
              "        const docLinkHtml = 'Like what you see? Visit the ' +\n",
              "          '<a target=\"_blank\" href=https://colab.research.google.com/notebooks/data_table.ipynb>data table notebook</a>'\n",
              "          + ' to learn more about interactive tables.';\n",
              "        element.innerHTML = '';\n",
              "        dataTable['output_type'] = 'display_data';\n",
              "        await google.colab.output.renderOutput(dataTable, element);\n",
              "        const docLink = document.createElement('div');\n",
              "        docLink.innerHTML = docLinkHtml;\n",
              "        element.appendChild(docLink);\n",
              "      }\n",
              "    </script>\n",
              "  </div>\n",
              "\n",
              "\n",
              "    <div id=\"df-b7412db1-177c-4341-af5b-7b8122b5883c\">\n",
              "      <button class=\"colab-df-quickchart\" onclick=\"quickchart('df-b7412db1-177c-4341-af5b-7b8122b5883c')\"\n",
              "                title=\"Suggest charts\"\n",
              "                style=\"display:none;\">\n",
              "\n",
              "<svg xmlns=\"http://www.w3.org/2000/svg\" height=\"24px\"viewBox=\"0 0 24 24\"\n",
              "     width=\"24px\">\n",
              "    <g>\n",
              "        <path d=\"M19 3H5c-1.1 0-2 .9-2 2v14c0 1.1.9 2 2 2h14c1.1 0 2-.9 2-2V5c0-1.1-.9-2-2-2zM9 17H7v-7h2v7zm4 0h-2V7h2v10zm4 0h-2v-4h2v4z\"/>\n",
              "    </g>\n",
              "</svg>\n",
              "      </button>\n",
              "\n",
              "<style>\n",
              "  .colab-df-quickchart {\n",
              "      --bg-color: #E8F0FE;\n",
              "      --fill-color: #1967D2;\n",
              "      --hover-bg-color: #E2EBFA;\n",
              "      --hover-fill-color: #174EA6;\n",
              "      --disabled-fill-color: #AAA;\n",
              "      --disabled-bg-color: #DDD;\n",
              "  }\n",
              "\n",
              "  [theme=dark] .colab-df-quickchart {\n",
              "      --bg-color: #3B4455;\n",
              "      --fill-color: #D2E3FC;\n",
              "      --hover-bg-color: #434B5C;\n",
              "      --hover-fill-color: #FFFFFF;\n",
              "      --disabled-bg-color: #3B4455;\n",
              "      --disabled-fill-color: #666;\n",
              "  }\n",
              "\n",
              "  .colab-df-quickchart {\n",
              "    background-color: var(--bg-color);\n",
              "    border: none;\n",
              "    border-radius: 50%;\n",
              "    cursor: pointer;\n",
              "    display: none;\n",
              "    fill: var(--fill-color);\n",
              "    height: 32px;\n",
              "    padding: 0;\n",
              "    width: 32px;\n",
              "  }\n",
              "\n",
              "  .colab-df-quickchart:hover {\n",
              "    background-color: var(--hover-bg-color);\n",
              "    box-shadow: 0 1px 2px rgba(60, 64, 67, 0.3), 0 1px 3px 1px rgba(60, 64, 67, 0.15);\n",
              "    fill: var(--button-hover-fill-color);\n",
              "  }\n",
              "\n",
              "  .colab-df-quickchart-complete:disabled,\n",
              "  .colab-df-quickchart-complete:disabled:hover {\n",
              "    background-color: var(--disabled-bg-color);\n",
              "    fill: var(--disabled-fill-color);\n",
              "    box-shadow: none;\n",
              "  }\n",
              "\n",
              "  .colab-df-spinner {\n",
              "    border: 2px solid var(--fill-color);\n",
              "    border-color: transparent;\n",
              "    border-bottom-color: var(--fill-color);\n",
              "    animation:\n",
              "      spin 1s steps(1) infinite;\n",
              "  }\n",
              "\n",
              "  @keyframes spin {\n",
              "    0% {\n",
              "      border-color: transparent;\n",
              "      border-bottom-color: var(--fill-color);\n",
              "      border-left-color: var(--fill-color);\n",
              "    }\n",
              "    20% {\n",
              "      border-color: transparent;\n",
              "      border-left-color: var(--fill-color);\n",
              "      border-top-color: var(--fill-color);\n",
              "    }\n",
              "    30% {\n",
              "      border-color: transparent;\n",
              "      border-left-color: var(--fill-color);\n",
              "      border-top-color: var(--fill-color);\n",
              "      border-right-color: var(--fill-color);\n",
              "    }\n",
              "    40% {\n",
              "      border-color: transparent;\n",
              "      border-right-color: var(--fill-color);\n",
              "      border-top-color: var(--fill-color);\n",
              "    }\n",
              "    60% {\n",
              "      border-color: transparent;\n",
              "      border-right-color: var(--fill-color);\n",
              "    }\n",
              "    80% {\n",
              "      border-color: transparent;\n",
              "      border-right-color: var(--fill-color);\n",
              "      border-bottom-color: var(--fill-color);\n",
              "    }\n",
              "    90% {\n",
              "      border-color: transparent;\n",
              "      border-bottom-color: var(--fill-color);\n",
              "    }\n",
              "  }\n",
              "</style>\n",
              "\n",
              "      <script>\n",
              "        async function quickchart(key) {\n",
              "          const quickchartButtonEl =\n",
              "            document.querySelector('#' + key + ' button');\n",
              "          quickchartButtonEl.disabled = true;  // To prevent multiple clicks.\n",
              "          quickchartButtonEl.classList.add('colab-df-spinner');\n",
              "          try {\n",
              "            const charts = await google.colab.kernel.invokeFunction(\n",
              "                'suggestCharts', [key], {});\n",
              "          } catch (error) {\n",
              "            console.error('Error during call to suggestCharts:', error);\n",
              "          }\n",
              "          quickchartButtonEl.classList.remove('colab-df-spinner');\n",
              "          quickchartButtonEl.classList.add('colab-df-quickchart-complete');\n",
              "        }\n",
              "        (() => {\n",
              "          let quickchartButtonEl =\n",
              "            document.querySelector('#df-b7412db1-177c-4341-af5b-7b8122b5883c button');\n",
              "          quickchartButtonEl.style.display =\n",
              "            google.colab.kernel.accessAllowed ? 'block' : 'none';\n",
              "        })();\n",
              "      </script>\n",
              "    </div>\n",
              "\n",
              "    </div>\n",
              "  </div>\n"
            ],
            "application/vnd.google.colaboratory.intrinsic+json": {
              "type": "dataframe",
              "summary": "{\n  \"name\": \"df_test[['TweetWithDateLocation', 'Sentiment', 'label']]\",\n  \"rows\": 5,\n  \"fields\": [\n    {\n      \"column\": \"TweetWithDateLocation\",\n      \"properties\": {\n        \"dtype\": \"string\",\n        \"num_unique_values\": 5,\n        \"samples\": [\n          \"[tweet] When I couldn't find hand sanitizer at Fred Meyer, I turned to . But $114.97 for a 2 pack of Purell??!!Check out how concerns are driving up prices. [hashtags] Amazon coronavirus [date] March 02, 2020 [location] Seattle, WA\",\n          \"[tweet] One week everyone buying baby milk powder the next everyone buying up toilet paper. [hashtags] toiletpaper dunnypaper coronavirus coronavirusaustralia CoronaVirusUpdate Covid_19 9News Corvid19 7NewsMelb dunnypapergate Costco [date] March 03, 2020 [location] Melbourne, Victoria\",\n          \"[tweet] Find out how you can protect yourself and loved ones from . ? [hashtags] coronavirus [date] March 02, 2020\"\n        ],\n        \"semantic_type\": \"\",\n        \"description\": \"\"\n      }\n    },\n    {\n      \"column\": \"Sentiment\",\n      \"properties\": {\n        \"dtype\": \"string\",\n        \"num_unique_values\": 5,\n        \"samples\": [\n          \"Positive\",\n          \"Neutral\",\n          \"Extremely Positive\"\n        ],\n        \"semantic_type\": \"\",\n        \"description\": \"\"\n      }\n    },\n    {\n      \"column\": \"label\",\n      \"properties\": {\n        \"dtype\": \"number\",\n        \"std\": 1,\n        \"min\": 0,\n        \"max\": 4,\n        \"num_unique_values\": 5,\n        \"samples\": [\n          2,\n          1,\n          4\n        ],\n        \"semantic_type\": \"\",\n        \"description\": \"\"\n      }\n    }\n  ]\n}"
            }
          },
          "metadata": {},
          "execution_count": 2
        }
      ],
      "source": [
        "# Expect to be in the same directory as df_test_final.csv\n",
        "df_test = pd.read_csv(\"df_test_final.csv\")\n",
        "\n",
        "# Map Sentiment column to integer labels (same order as in the fine-tuning notebook)\n",
        "sentiment_classes = ['Negative', 'Neutral', 'Positive', 'Extremely Negative', 'Extremely Positive']\n",
        "label2id = {label: idx for idx, label in enumerate(sentiment_classes)}\n",
        "\n",
        "# Create the 'label' column used by the dataset class\n",
        "if 'label' not in df_test.columns:\n",
        "    df_test['label'] = df_test['Sentiment'].map(label2id).astype(int)\n",
        "\n",
        "print(\"Test shape:\", df_test.shape)\n",
        "df_test[['TweetWithDateLocation', 'Sentiment', 'label']].head()"
      ]
    },
    {
      "cell_type": "markdown",
      "id": "44f8fbbb",
      "metadata": {
        "id": "44f8fbbb"
      },
      "source": [
        "Dataset & Tokenization"
      ]
    },
    {
      "cell_type": "code",
      "execution_count": 3,
      "id": "00363913",
      "metadata": {
        "id": "00363913"
      },
      "outputs": [],
      "source": [
        "class TweetDataset(Dataset):\n",
        "    \"\"\"\n",
        "    PyTorch Dataset for tweet sentiment analysis using a DataFrame.\n",
        "    Processes each row to create tokenized input for transformer models.\n",
        "    \"\"\"\n",
        "\n",
        "    def __init__(self, dataframe, tokenizer, text_col=\"TweetWithDateLocation\", label_col=\"label\", max_len=128):\n",
        "        self.texts = dataframe[text_col].astype(str).tolist()\n",
        "        self.labels = dataframe[label_col].tolist()\n",
        "        self.tokenizer = tokenizer\n",
        "        self.max_len = max_len\n",
        "\n",
        "    def __len__(self):\n",
        "        return len(self.texts)\n",
        "\n",
        "    def __getitem__(self, idx):\n",
        "        text = self.texts[idx]\n",
        "        label = self.labels[idx]\n",
        "\n",
        "        encoding = self.tokenizer.encode_plus(\n",
        "            text,\n",
        "            add_special_tokens=True,\n",
        "            max_length=self.max_len,\n",
        "            padding='max_length',\n",
        "            truncation=True,\n",
        "            return_attention_mask=True,\n",
        "            return_tensors='pt'\n",
        "        )\n",
        "\n",
        "        return {\n",
        "            'input_ids': encoding['input_ids'].squeeze(),\n",
        "            'attention_mask': encoding['attention_mask'].squeeze(),\n",
        "            'labels': torch.tensor(label, dtype=torch.long)\n",
        "        }"
      ]
    },
    {
      "cell_type": "markdown",
      "id": "04a074ab",
      "metadata": {
        "id": "04a074ab"
      },
      "source": [
        "Evaluation Function"
      ]
    },
    {
      "cell_type": "code",
      "execution_count": 4,
      "id": "22509e9f",
      "metadata": {
        "id": "22509e9f"
      },
      "outputs": [],
      "source": [
        "def evaluate_model(model, dataloader, eval_device=None):\n",
        "    \"\"\"\n",
        "    Returns dict with: Accuracy, Macro F1, Precision, Recall\n",
        "    \"\"\"\n",
        "    if eval_device is None:\n",
        "        eval_device = next(model.parameters()).device\n",
        "\n",
        "    model.eval()\n",
        "    all_preds, all_probs, all_labels = [], [], []\n",
        "    with torch.no_grad():\n",
        "        for batch in dataloader:\n",
        "            input_ids = batch['input_ids'].to(eval_device)\n",
        "            attention_mask = batch['attention_mask'].to(eval_device)\n",
        "            labels = batch['labels'].to(eval_device)\n",
        "\n",
        "            outputs = model(input_ids=input_ids, attention_mask=attention_mask)\n",
        "            logits = outputs.logits\n",
        "            probs = F.softmax(logits, dim=-1)\n",
        "            preds = probs.argmax(dim=1)\n",
        "\n",
        "            all_probs.append(probs.cpu().numpy())\n",
        "            all_preds.append(preds.cpu().numpy())\n",
        "            all_labels.append(labels.cpu().numpy())\n",
        "\n",
        "    y_prob = np.concatenate(all_probs, axis=0)\n",
        "    y_pred = np.concatenate(all_preds, axis=0)\n",
        "    y_true = np.concatenate(all_labels, axis=0)\n",
        "\n",
        "    metrics = {\n",
        "        \"Accuracy\": accuracy_score(y_true, y_pred),\n",
        "        \"Macro F1\": f1_score(y_true, y_pred, average='macro'),\n",
        "        \"Precision\": precision_score(y_true, y_pred, average='macro', zero_division=0),\n",
        "        \"Recall\": recall_score(y_true, y_pred, average='macro', zero_division=0),\n",
        "    }\n",
        "\n",
        "    return metrics"
      ]
    },
    {
      "cell_type": "markdown",
      "id": "b952a1d3",
      "metadata": {
        "id": "b952a1d3"
      },
      "source": [
        "Load All Models"
      ]
    },
    {
      "cell_type": "code",
      "execution_count": 5,
      "id": "2317d0c8",
      "metadata": {
        "id": "2317d0c8"
      },
      "outputs": [],
      "source": [
        "import os\n",
        "import re\n",
        "\n",
        "MODEL_DIR = \".\"  # same directory as notebook\n",
        "\n",
        "def infer_backbone_from_filename(fname: str) -> str:\n",
        "    \"\"\"\n",
        "    Map file names to the exact backbones used in training.\n",
        "    We intentionally avoid mapping to 'deberta-v3' to prevent tokenizer/type issues.\n",
        "    \"\"\"\n",
        "    f = fname.lower()\n",
        "\n",
        "    # BERTweet\n",
        "    if \"bertweet\" in f or \"vinai-bertweet-base\" in f:\n",
        "        return \"vinai/bertweet-base\"\n",
        "\n",
        "    # DeBERTa (base) – this is what the original notebook fine-tuned\n",
        "    if \"deberta-base\" in f or \"microsoft-deberta-base\" in f or \"deberta_base\" in f:\n",
        "        return \"microsoft/deberta-base\"\n",
        "\n",
        "    # Distilled students from KD section:\n",
        "    if \"bert-tiny\" in f or \"prajjwal1-bert-tiny\" in f:\n",
        "        return \"prajjwal1/bert-tiny\"\n",
        "    if \"deberta-v3-small\" in f or \"microsoft-deberta-v3-small\" in f:\n",
        "        return \"microsoft/deberta-v3-small\"\n",
        "\n",
        "    # Fallback to DeBERTa base if something DeBERTa-ish slipped through\n",
        "    if \"deberta\" in f:\n",
        "        return \"microsoft/deberta-base\"\n",
        "\n",
        "    # As very last resort, try BERTweet\n",
        "    return \"vinai/bertweet-base\"\n",
        "\n",
        "\n",
        "def is_quantized_file(fname: str) -> bool:\n",
        "    return \"_quantized\" in fname.lower()\n",
        "\n",
        "\n",
        "def sorted_pt_files_in_dir(d: str = \".\"):\n",
        "    files = [f for f in os.listdir(d) if f.endswith(\".pt\")]\n",
        "    files.sort()\n",
        "    return files"
      ]
    },
    {
      "cell_type": "markdown",
      "id": "d11a4c7b",
      "metadata": {
        "id": "d11a4c7b"
      },
      "source": [
        "Run Evaluation for Each Model"
      ]
    },
    {
      "cell_type": "code",
      "execution_count": 6,
      "id": "86d0d1d6",
      "metadata": {
        "colab": {
          "base_uri": "https://localhost:8080/"
        },
        "id": "86d0d1d6",
        "outputId": "be9bea12-512f-460c-d882-95138e3fcd42"
      },
      "outputs": [
        {
          "output_type": "stream",
          "name": "stdout",
          "text": [
            "Discovered .pt files: ['microsoft-deberta-base_fine_tuned_hf_model.pt', 'vinai-bertweet-base_fine_tuned_hf_model_quantized.pt', 'vinai-bertweet-base_fine_tuned_pytorch_model.pt', 'vinai-bertweet-base_fine_tuned_pytorch_model_pruned.pt', 'vinai-bertweet-base_fine_tuned_pytorch_model_quantized.pt']\n",
            "\n",
            ">>> Evaluating: microsoft-deberta-base_fine_tuned_hf_model.pt\n",
            "    Backbone: microsoft/deberta-base\n",
            "    Quantized: False\n",
            "\n",
            ">>> Evaluating: vinai-bertweet-base_fine_tuned_hf_model_quantized.pt\n",
            "    Backbone: vinai/bertweet-base\n",
            "    Quantized: True\n"
          ]
        },
        {
          "output_type": "stream",
          "name": "stderr",
          "text": [
            "emoji is not installed, thus not converting emoticons or emojis into text. Install emoji: pip3 install emoji==0.6.0\n"
          ]
        },
        {
          "output_type": "stream",
          "name": "stdout",
          "text": [
            "\n",
            ">>> Evaluating: vinai-bertweet-base_fine_tuned_pytorch_model.pt\n",
            "    Backbone: vinai/bertweet-base\n",
            "    Quantized: False\n"
          ]
        },
        {
          "output_type": "stream",
          "name": "stderr",
          "text": [
            "emoji is not installed, thus not converting emoticons or emojis into text. Install emoji: pip3 install emoji==0.6.0\n"
          ]
        },
        {
          "output_type": "stream",
          "name": "stdout",
          "text": [
            "\n",
            ">>> Evaluating: vinai-bertweet-base_fine_tuned_pytorch_model_pruned.pt\n",
            "    Backbone: vinai/bertweet-base\n",
            "    Quantized: False\n"
          ]
        },
        {
          "output_type": "stream",
          "name": "stderr",
          "text": [
            "emoji is not installed, thus not converting emoticons or emojis into text. Install emoji: pip3 install emoji==0.6.0\n"
          ]
        },
        {
          "output_type": "stream",
          "name": "stdout",
          "text": [
            "\n",
            ">>> Evaluating: vinai-bertweet-base_fine_tuned_pytorch_model_quantized.pt\n",
            "    Backbone: vinai/bertweet-base\n",
            "    Quantized: True\n"
          ]
        },
        {
          "output_type": "stream",
          "name": "stderr",
          "text": [
            "emoji is not installed, thus not converting emoticons or emojis into text. Install emoji: pip3 install emoji==0.6.0\n"
          ]
        }
      ],
      "source": [
        "import torch\n",
        "from torch import nn\n",
        "from torch.quantization import quantize_dynamic\n",
        "from transformers import AutoTokenizer, AutoConfig, AutoModelForSequenceClassification\n",
        "\n",
        "def load_finetuned_model(backbone: str, state_dict_path: str, num_labels: int = 5, quantized: bool = False):\n",
        "    \"\"\"\n",
        "    Build architecture from CONFIG (no hub weights), then load the saved .pt state_dict.\n",
        "    No HF-folder or safetensors fallback — .pt only.\n",
        "    \"\"\"\n",
        "    eval_device = torch.device(\"cpu\") if quantized else device\n",
        "\n",
        "    # Robust torch.load for state_dict\n",
        "    state = None\n",
        "    try:\n",
        "        state = torch.load(state_dict_path, map_location=eval_device)\n",
        "    except Exception as e:\n",
        "        # try PyTorch >=2.2 weights_only path if available\n",
        "        try:\n",
        "            state = torch.load(state_dict_path, map_location=eval_device, weights_only=True)\n",
        "        except Exception:\n",
        "            raise RuntimeError(f\"torch.load failed on '{state_dict_path}': {e}\")\n",
        "\n",
        "    if not isinstance(state, dict):\n",
        "        raise RuntimeError(f\"Loaded object from '{state_dict_path}' is not a state_dict (dict).\")\n",
        "\n",
        "    # Build empty architecture from config (prevents 'newly initialized' head warning)\n",
        "    cfg = AutoConfig.from_pretrained(backbone, num_labels=num_labels)\n",
        "    model = AutoModelForSequenceClassification.from_config(cfg)\n",
        "\n",
        "    # Optional: dynamic int8 quantization (CPU-only)\n",
        "    if quantized:\n",
        "        model = quantize_dynamic(model, {nn.Linear}, dtype=torch.qint8)\n",
        "        eval_device = torch.device(\"cpu\")\n",
        "\n",
        "    # Load weights (non-strict for minor HF version diffs)\n",
        "    missing, unexpected = model.load_state_dict(state, strict=False)\n",
        "    if missing or unexpected:\n",
        "        print(\"load_state_dict info -> missing:\", missing, \"| unexpected:\", unexpected)\n",
        "\n",
        "    model.to(eval_device).eval()\n",
        "    return model, eval_device\n",
        "\n",
        "\n",
        "# ===== Inference loop (same tokenizer style as training: use_fast=False) =====\n",
        "results = []\n",
        "\n",
        "all_model_files = sorted_pt_files_in_dir(MODEL_DIR)\n",
        "print(\"Discovered .pt files:\", all_model_files)\n",
        "\n",
        "for fname in all_model_files:\n",
        "    backbone = infer_backbone_from_filename(fname)\n",
        "    quantized = is_quantized_file(fname)\n",
        "    print(f\"\\n>>> Evaluating: {fname}\\n    Backbone: {backbone}\\n    Quantized: {quantized}\")\n",
        "\n",
        "    tokenizer = AutoTokenizer.from_pretrained(backbone, use_fast=False)\n",
        "\n",
        "    test_dataset = TweetDataset(\n",
        "        df_test, tokenizer,\n",
        "        text_col=\"TweetWithDateLocation\",\n",
        "        label_col=\"label\",\n",
        "        max_len=128\n",
        "    )\n",
        "    test_loader = DataLoader(test_dataset, batch_size=32, shuffle=False)\n",
        "\n",
        "    model, eval_device = load_finetuned_model(backbone, os.path.join(MODEL_DIR, fname), num_labels=5, quantized=quantized)\n",
        "\n",
        "    # NOTE: this matches your current evaluate_model signature you’re calling with (model, loader, device)\n",
        "    metrics = evaluate_model(model, test_loader, eval_device)\n",
        "    metrics[\"Model\"] = fname\n",
        "    results.append(metrics)"
      ]
    },
    {
      "cell_type": "markdown",
      "id": "cfeea6d8",
      "metadata": {
        "id": "cfeea6d8"
      },
      "source": [
        "Collect Results"
      ]
    },
    {
      "cell_type": "code",
      "execution_count": 8,
      "id": "935e8b51",
      "metadata": {
        "colab": {
          "base_uri": "https://localhost:8080/"
        },
        "id": "935e8b51",
        "outputId": "ab2be09e-1e55-47dc-dc75-a4bde90af863"
      },
      "outputs": [
        {
          "output_type": "stream",
          "name": "stdout",
          "text": [
            "\n",
            "=== Final Results ===\n",
            "                                               Model  Accuracy  Macro F1  \\\n",
            "0      microsoft-deberta-base_fine_tuned_hf_model.pt  0.631122  0.644625   \n",
            "1  vinai-bertweet-base_fine_tuned_hf_model_quanti...  0.301211  0.240275   \n",
            "2    vinai-bertweet-base_fine_tuned_pytorch_model.pt  0.594787  0.610027   \n",
            "3  vinai-bertweet-base_fine_tuned_pytorch_model_p...  0.572670  0.580404   \n",
            "4  vinai-bertweet-base_fine_tuned_pytorch_model_q...  0.307794  0.168288   \n",
            "\n",
            "   Precision    Recall  \n",
            "0   0.647044  0.642687  \n",
            "1   0.347363  0.309262  \n",
            "2   0.617176  0.604966  \n",
            "3   0.601918  0.582152  \n",
            "4   0.568959  0.235898  \n"
          ]
        }
      ],
      "source": [
        "df_results = pd.DataFrame(results)\n",
        "df_results = df_results[[\"Model\", \"Accuracy\", \"Macro F1\", \"Precision\", \"Recall\"]]\n",
        "\n",
        "print(\"\\n=== Final Results ===\")\n",
        "print(df_results)\n",
        "\n",
        "# Save\n",
        "df_results.to_csv(\"model_comparison_results.csv\", index=False)"
      ]
    }
  ],
  "metadata": {
    "accelerator": "GPU",
    "colab": {
      "gpuType": "A100",
      "machine_shape": "hm",
      "provenance": []
    },
    "kernelspec": {
      "display_name": "DL_ex_1",
      "language": "python",
      "name": "python3"
    },
    "language_info": {
      "codemirror_mode": {
        "name": "ipython",
        "version": 3
      },
      "file_extension": ".py",
      "mimetype": "text/x-python",
      "name": "python",
      "nbconvert_exporter": "python",
      "pygments_lexer": "ipython3",
      "version": "3.12.3"
    }
  },
  "nbformat": 4,
  "nbformat_minor": 5
}